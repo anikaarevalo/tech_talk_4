{
 "cells": [
  {
   "cell_type": "code",
   "execution_count": null,
   "id": "6decdaf5",
   "metadata": {
    "slideshow": {
     "slide_type": "slide"
    }
   },
   "outputs": [],
   "source": [
    "HELLO"
   ]
  },
  {
   "cell_type": "code",
   "execution_count": null,
   "id": "fee23e70",
   "metadata": {
    "slideshow": {
     "slide_type": "subslide"
    }
   },
   "outputs": [],
   "source": [
    "Welcome to my tech talk"
   ]
  },
  {
   "cell_type": "code",
   "execution_count": null,
   "id": "35bd7082",
   "metadata": {
    "slideshow": {
     "slide_type": "subslide"
    }
   },
   "outputs": [],
   "source": [
    "My name is Anika"
   ]
  },
  {
   "cell_type": "code",
   "execution_count": null,
   "id": "7bae441d",
   "metadata": {
    "slideshow": {
     "slide_type": "fragment"
    }
   },
   "outputs": [],
   "source": [
    "I'm a junior AI operator "
   ]
  },
  {
   "cell_type": "code",
   "execution_count": null,
   "id": "8888499f",
   "metadata": {
    "slideshow": {
     "slide_type": "fragment"
    }
   },
   "outputs": [],
   "source": [
    "at BeCode (Ghent)"
   ]
  },
  {
   "cell_type": "code",
   "execution_count": null,
   "id": "8069a9da",
   "metadata": {
    "slideshow": {
     "slide_type": "skip"
    }
   },
   "outputs": [],
   "source": [
    "What are emojis?"
   ]
  },
  {
   "cell_type": "code",
   "execution_count": null,
   "id": "1511fc2f",
   "metadata": {
    "slideshow": {
     "slide_type": "notes"
    }
   },
   "outputs": [],
   "source": [
    "Emjois are language in pictures"
   ]
  }
 ],
 "metadata": {
  "celltoolbar": "Slideshow",
  "kernelspec": {
   "display_name": "Python 3 (ipykernel)",
   "language": "python",
   "name": "python3"
  },
  "language_info": {
   "codemirror_mode": {
    "name": "ipython",
    "version": 3
   },
   "file_extension": ".py",
   "mimetype": "text/x-python",
   "name": "python",
   "nbconvert_exporter": "python",
   "pygments_lexer": "ipython3",
   "version": "3.9.7"
  }
 },
 "nbformat": 4,
 "nbformat_minor": 5
}
