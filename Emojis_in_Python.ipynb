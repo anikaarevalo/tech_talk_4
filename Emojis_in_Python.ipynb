{
 "cells": [
  {
   "cell_type": "markdown",
   "id": "93d4eb98",
   "metadata": {
    "slideshow": {
     "slide_type": "slide"
    }
   },
   "source": [
    "# EMOJIS 😂😃🧘🏻‍♂️🌍🌦️🍞🚗📞🎉❤️🏁\n",
    "\n",
    "# in Jupyter ipynb"
   ]
  },
  {
   "cell_type": "markdown",
   "id": "11ce6de9",
   "metadata": {
    "slideshow": {
     "slide_type": "slide"
    }
   },
   "source": [
    "# Three (3) Use Cases"
   ]
  },
  {
   "cell_type": "markdown",
   "id": "e500730a",
   "metadata": {
    "slideshow": {
     "slide_type": "slide"
    }
   },
   "source": [
    "## Use case 1: Teaching code 🧒🏻 🧒🏼 🧒🏽 🧒🏾 🧒🏿 🧒"
   ]
  },
  {
   "cell_type": "code",
   "execution_count": null,
   "id": "5a77b904",
   "metadata": {
    "slideshow": {
     "slide_type": "slide"
    }
   },
   "outputs": [],
   "source": [
    "# Using emojis as string to be parsed\n",
    "fruits = '🍎 🍉 🍇 🍌 🍍 🍑 🍒 🍓 🥝 🥑 🍋 🍈 🍐'\n",
    "fruits_I_like = '🍉 🍒 🍌 🍑 🍓 🍋'"
   ]
  },
  {
   "cell_type": "code",
   "execution_count": null,
   "id": "fe1314c2",
   "metadata": {
    "slideshow": {
     "slide_type": "fragment"
    }
   },
   "outputs": [],
   "source": [
    "# Split method\n",
    "fruits.split(' ')"
   ]
  },
  {
   "cell_type": "code",
   "execution_count": null,
   "id": "d481cf6c",
   "metadata": {
    "slideshow": {
     "slide_type": "fragment"
    }
   },
   "outputs": [],
   "source": [
    "# Nested loop\n",
    "for fruit in fruits.split(' '):\n",
    "    if fruit in fruits_I_like:\n",
    "        print(f\"I like {fruit}\")\n",
    "        \n",
    "    else:\n",
    "        print(f\"I don't like {fruit}\")"
   ]
  },
  {
   "cell_type": "markdown",
   "id": "93be148b",
   "metadata": {
    "slideshow": {
     "slide_type": "slide"
    }
   },
   "source": [
    "## Use case 2:  Accentuate presentations 📈 📉 📊 🤩"
   ]
  },
  {
   "cell_type": "code",
   "execution_count": null,
   "id": "9c8df6e5",
   "metadata": {
    "slideshow": {
     "slide_type": "slide"
    }
   },
   "outputs": [],
   "source": [
    "# Importing libraries for creating a data frame and plotting\n",
    "import plotly.express as px\n",
    "import pandas as pd"
   ]
  },
  {
   "cell_type": "code",
   "execution_count": null,
   "id": "31212c27",
   "metadata": {
    "slideshow": {
     "slide_type": "fragment"
    }
   },
   "outputs": [],
   "source": [
    "# Creating data frame from dictionary\n",
    "data = pd.DataFrame({'Customer Satisfaction': ('😠 😞 😐 🙂 😊').split(' '),\n",
    "                     'Nr of Customers': [10, 20, 30, 60, 50]})\n",
    "data"
   ]
  },
  {
   "cell_type": "code",
   "execution_count": null,
   "id": "13378dad",
   "metadata": {
    "slideshow": {
     "slide_type": "fragment"
    }
   },
   "outputs": [],
   "source": [
    "# Creating the plot\n",
    "fig = px.bar(data, x='Customer Satisfaction', y='Nr of Customers', \n",
    "             color='Nr of Customers', width=700, height=450)\n",
    "fig.update_xaxes(title_text='', tickfont=dict(size=30))\n",
    "fig.update_layout(title_text='Customer Satisfaction', title_x=0.5)\n",
    "fig.show()"
   ]
  },
  {
   "cell_type": "markdown",
   "id": "981a5d6c",
   "metadata": {
    "slideshow": {
     "slide_type": "slide"
    }
   },
   "source": [
    "## Use case 3: Text preprocessing 🤖🪄"
   ]
  },
  {
   "cell_type": "markdown",
   "id": "930b4170",
   "metadata": {
    "slideshow": {
     "slide_type": "slide"
    }
   },
   "source": [
    "### Using Regex module"
   ]
  },
  {
   "cell_type": "code",
   "execution_count": null,
   "id": "13f41fab",
   "metadata": {
    "slideshow": {
     "slide_type": "fragment"
    }
   },
   "outputs": [],
   "source": [
    "# Importing the relevant modules\n",
    "import emoji\n",
    "import regex as re"
   ]
  },
  {
   "cell_type": "code",
   "execution_count": null,
   "id": "f584a9a7",
   "metadata": {
    "slideshow": {
     "slide_type": "fragment"
    }
   },
   "outputs": [],
   "source": [
    "# Sample of text with emojis for extraction\n",
    "text = ['These 😠 emojis 😞 are 😐 embedded 🙂 within 😊 this 😊 text.']"
   ]
  },
  {
   "cell_type": "code",
   "execution_count": null,
   "id": "194c5a1e",
   "metadata": {
    "slideshow": {
     "slide_type": "fragment"
    }
   },
   "outputs": [],
   "source": [
    "# Using the .findall() function \n",
    "new_text = re.findall(r'[^\\w\\s,.]', text [0])"
   ]
  },
  {
   "cell_type": "code",
   "execution_count": null,
   "id": "3c6d35c1",
   "metadata": {
    "slideshow": {
     "slide_type": "fragment"
    }
   },
   "outputs": [],
   "source": [
    "# Displaying the output\n",
    "new_text"
   ]
  },
  {
   "cell_type": "markdown",
   "id": "0fa8f9d2",
   "metadata": {
    "slideshow": {
     "slide_type": "slide"
    }
   },
   "source": [
    "### Using Emoji module"
   ]
  },
  {
   "cell_type": "code",
   "execution_count": null,
   "id": "2193f8fe",
   "metadata": {
    "slideshow": {
     "slide_type": "fragment"
    }
   },
   "outputs": [],
   "source": [
    "# Importing the Python emoji library\n",
    "import emojis"
   ]
  },
  {
   "cell_type": "markdown",
   "id": "fce3aedc",
   "metadata": {
    "slideshow": {
     "slide_type": "fragment"
    }
   },
   "source": [
    "**\"I enjoy coding emojis with python\"**"
   ]
  },
  {
   "cell_type": "code",
   "execution_count": null,
   "id": "3fd55b05",
   "metadata": {
    "slideshow": {
     "slide_type": "fragment"
    }
   },
   "outputs": [],
   "source": [
    "# Encoding emojis\n",
    "emojis.encode(':smile: coding emojis with :snake:')"
   ]
  },
  {
   "cell_type": "code",
   "execution_count": null,
   "id": "9a28e9f6",
   "metadata": {
    "slideshow": {
     "slide_type": "fragment"
    }
   },
   "outputs": [],
   "source": [
    "# Decoding emojis\n",
    "emojis.decode('😄 coding emojis with 🐍')"
   ]
  }
 ],
 "metadata": {
  "celltoolbar": "Slideshow",
  "kernelspec": {
   "display_name": "Python 3 (ipykernel)",
   "language": "python",
   "name": "python3"
  },
  "language_info": {
   "codemirror_mode": {
    "name": "ipython",
    "version": 3
   },
   "file_extension": ".py",
   "mimetype": "text/x-python",
   "name": "python",
   "nbconvert_exporter": "python",
   "pygments_lexer": "ipython3",
   "version": "3.9.7"
  }
 },
 "nbformat": 4,
 "nbformat_minor": 5
}
