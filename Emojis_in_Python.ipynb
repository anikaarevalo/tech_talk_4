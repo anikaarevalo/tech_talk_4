{
 "cells": [
  {
   "cell_type": "markdown",
   "id": "e27e407b",
   "metadata": {
    "slideshow": {
     "slide_type": "subslide"
    }
   },
   "source": [
    "# EMOJIS 😂😃🧘🏻‍♂️🌍🌦️🍞🚗📞🎉❤️🏁\n",
    "\n",
    "\n",
    "## Anika Arevalo\n",
    "## Jr. AI Data Operator \n",
    "## BeCode (Ghent)"
   ]
  },
  {
   "cell_type": "markdown",
   "id": "cfb9b5a1",
   "metadata": {
    "slideshow": {
     "slide_type": "subslide"
    }
   },
   "source": [
    "## Anika Arevalo"
   ]
  },
  {
   "cell_type": "code",
   "execution_count": null,
   "id": "38b4a343",
   "metadata": {},
   "outputs": [],
   "source": []
  }
 ],
 "metadata": {
  "celltoolbar": "Slideshow",
  "kernelspec": {
   "display_name": "Python 3 (ipykernel)",
   "language": "python",
   "name": "python3"
  },
  "language_info": {
   "codemirror_mode": {
    "name": "ipython",
    "version": 3
   },
   "file_extension": ".py",
   "mimetype": "text/x-python",
   "name": "python",
   "nbconvert_exporter": "python",
   "pygments_lexer": "ipython3",
   "version": "3.9.7"
  }
 },
 "nbformat": 4,
 "nbformat_minor": 5
}
