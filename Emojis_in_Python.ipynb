{
 "cells": [
  {
   "cell_type": "markdown",
   "id": "93d4eb98",
   "metadata": {
    "slideshow": {
     "slide_type": "slide"
    }
   },
   "source": [
    "# EMOJIS 😂😃🧘🏻‍♂️🌍🌦️🍞🚗📞🎉❤️🏁\n",
    "\n",
    "# in Jupyter ipynb"
   ]
  },
  {
   "cell_type": "markdown",
   "id": "11ce6de9",
   "metadata": {
    "slideshow": {
     "slide_type": "slide"
    }
   },
   "source": [
    "# Three (3) Use Cases"
   ]
  },
  {
   "cell_type": "markdown",
   "id": "e500730a",
   "metadata": {
    "slideshow": {
     "slide_type": "slide"
    }
   },
   "source": [
    "## Use case 1: Teaching code "
   ]
  },
  {
   "cell_type": "code",
   "execution_count": 1,
   "id": "5a77b904",
   "metadata": {
    "slideshow": {
     "slide_type": "slide"
    }
   },
   "outputs": [],
   "source": [
    "fruits = '🍎 🍉 🍇 🍌 🍍 🍑 🍒 🍓 🥝 🥑 🍋 🍈 🍐'\n",
    "fruits_I_like = '🍉 🍒 🍌 🍑 🍓 🍋'"
   ]
  },
  {
   "cell_type": "code",
   "execution_count": null,
   "id": "d481cf6c",
   "metadata": {
    "slideshow": {
     "slide_type": "fragment"
    }
   },
   "outputs": [],
   "source": [
    "for fruit in fruits.split(' '):\n",
    "    if fruit in fruits_I_like:\n",
    "        print(f\"I like {fruit}\")\n",
    "        \n",
    "    else:\n",
    "        print(f\"I don't like {fruit}\")"
   ]
  },
  {
   "cell_type": "markdown",
   "id": "93be148b",
   "metadata": {
    "slideshow": {
     "slide_type": "slide"
    }
   },
   "source": [
    "## Use case 2:  Accentuate presentations"
   ]
  },
  {
   "cell_type": "code",
   "execution_count": null,
   "id": "9c8df6e5",
   "metadata": {
    "slideshow": {
     "slide_type": "slide"
    }
   },
   "outputs": [],
   "source": [
    "import plotly.express as px\n",
    "import pandas as pd"
   ]
  },
  {
   "cell_type": "code",
   "execution_count": null,
   "id": "31212c27",
   "metadata": {
    "slideshow": {
     "slide_type": "fragment"
    }
   },
   "outputs": [],
   "source": [
    "data = pd.DataFrame({'Customer Satisfaction': ('😠 😞 😐 🙂 😊').split(' '),\n",
    "                     'Nr of Customers': [10, 20, 30, 60, 50]})\n",
    "data"
   ]
  },
  {
   "cell_type": "code",
   "execution_count": null,
   "id": "13378dad",
   "metadata": {
    "slideshow": {
     "slide_type": "fragment"
    }
   },
   "outputs": [],
   "source": [
    "fig = px.bar(data, x='Customer Satisfaction', y='Nr of Customers', \n",
    "             color='Nr of Customers', width=700, height=450)\n",
    "fig.update_xaxes(title_text='', tickfont=dict(size=30))\n",
    "fig.update_layout(title_text='Customer Satisfaction', title_x=0.5)\n",
    "fig.show()"
   ]
  },
  {
   "cell_type": "markdown",
   "id": "981a5d6c",
   "metadata": {
    "slideshow": {
     "slide_type": "slide"
    }
   },
   "source": [
    "## Use case 3: Mathematical formulas"
   ]
  },
  {
   "cell_type": "code",
   "execution_count": null,
   "id": "df906627",
   "metadata": {},
   "outputs": [],
   "source": []
  },
  {
   "cell_type": "code",
   "execution_count": null,
   "id": "9a28e9f6",
   "metadata": {},
   "outputs": [],
   "source": [
    "import emoji\n",
    "\n",
    "def extract_emojis(text):\n",
    "\n",
    "    emoji_list = []\n",
    "    data = regex.findall(r'\\X', text)\n",
    "    for word in data:\n",
    "        if any(char in emoji.UNICODE_EMOJI for char in word):\n",
    "            emoji_list.append(word)\n",
    "\n",
    "    for smiley in re.findall(\n",
    "        u'(\\U0001F1F2\\U0001F1F4)|'       # Macau flag\n",
    "        u'([\\U0001F1E6-\\U0001F1FF]{2})|' # flags\n",
    "        u'([\\U0001F600-\\U0001F64F])'     # emoticons\n",
    "        \"+\", text, flags=re.UNICODE):\n",
    "        for s in smiley:\n",
    "            if s.strip() != \"\":\n",
    "                emoji_list.append(s.strip())"
   ]
  }
 ],
 "metadata": {
  "celltoolbar": "Slideshow",
  "kernelspec": {
   "display_name": "Python 3 (ipykernel)",
   "language": "python",
   "name": "python3"
  },
  "language_info": {
   "codemirror_mode": {
    "name": "ipython",
    "version": 3
   },
   "file_extension": ".py",
   "mimetype": "text/x-python",
   "name": "python",
   "nbconvert_exporter": "python",
   "pygments_lexer": "ipython3",
   "version": "3.9.7"
  }
 },
 "nbformat": 4,
 "nbformat_minor": 5
}
